{
 "cells": [
  {
   "cell_type": "code",
   "execution_count": 122,
   "metadata": {},
   "outputs": [],
   "source": [
    "import numpy as np\n",
    "import h5py\n",
    "from pathlib import Path\n",
    "import pandas as pd\n",
    "from tqdm import tqdm\n",
    "from copy import copy\n",
    "import sys\n",
    "sys.path.append(\"../\")\n",
    "from utils.config import labels as human_labels\n",
    "from utils.config import id_to_lb\n",
    "from copy import deepcopy\n",
    "# print(f\"{labels=}\")"
   ]
  },
  {
   "cell_type": "code",
   "execution_count": 123,
   "metadata": {},
   "outputs": [
    {
     "name": "stdout",
     "output_type": "stream",
     "text": [
      "index,YTID,start_seconds,end_seconds,positive_labels\n",
      "0|---1_cCGK4M|0.000|10.000|\"/m/01g50p,/m/0284vy3,/m/06d_3,/m/07jdr,/m/07rwm0c\"\n",
      "1|---2_BBVHAA|30.000|40.000|\"/m/09x0r\"\n",
      "2|---B_v8ZoBY|30.000|40.000|\"/m/04rlf\"\n",
      "3|---EDNidJUA|30.000|40.000|\"/m/02qldy,/m/02zsn,/m/05zppz,/m/09x0r\"\n",
      "4|---N4cFAE1A|21.000|31.000|\"/m/04rlf,/m/09x0r\"\n",
      "5|---fcVQUf3E|30.000|40.000|\"/m/019jd,/m/07yv9\"\n",
      "6|---g9OGAhwc|30.000|40.000|\"/m/04rlf,/m/0c1dj\"\n",
      "7|---lTs1dxhU|30.000|40.000|\"/m/012f08,/m/07yv9,/m/0k4j,/t/dd00134\"\n",
      "8|---mO--kRQk|30.000|40.000|\"/m/04rlf\"\n"
     ]
    }
   ],
   "source": [
    "! head /datasets/AudioSet/pann_repo/unbalanced_train_segments.csv"
   ]
  },
  {
   "cell_type": "code",
   "execution_count": 128,
   "metadata": {},
   "outputs": [
    {
     "name": "stdout",
     "output_type": "stream",
     "text": [
      "meta_csv.index=RangeIndex(start=0, stop=2041789, step=1)\n",
      "num_classes=527\n"
     ]
    }
   ],
   "source": [
    "meta_csv: pd.DataFrame = pd.read_csv(\"/datasets/AudioSet/pann_repo/unbalanced_train_segments.csv\", sep=\"|\")\n",
    "print(f\"{meta_csv.index=}\")\n",
    "meta_csv.set_index(\"index\")\n",
    "labels_csv: pd.DataFrame = pd.read_csv(\"/datasets/AudioSet/pann_repo/metadata/class_labels_indices.csv\")\n",
    "num_classes: int = len(labels_csv)\n",
    "\n",
    "print(f\"{num_classes=}\")    "
   ]
  },
  {
   "cell_type": "markdown",
   "metadata": {},
   "source": [
    "## Checking that the human labels are sorted properly"
   ]
  },
  {
   "cell_type": "code",
   "execution_count": 129,
   "metadata": {},
   "outputs": [
    {
     "name": "stdout",
     "output_type": "stream",
     "text": [
      "human_labels=['A capella', 'Accelerating, revving, vroom', 'Accordion', 'Acoustic guitar', 'Afrobeat', 'Air brake', 'Air conditioning', 'Air horn, truck horn', 'Aircraft', 'Aircraft engine', 'Alarm', 'Alarm clock', 'Ambient music', 'Ambulance (siren)', 'Angry music', 'Animal', 'Applause', 'Arrow', 'Artillery fire', 'Babbling', 'Baby cry, infant cry', 'Baby laughter', 'Background music', 'Bagpipes', 'Bang', 'Banjo', 'Bark', 'Basketball bounce', 'Bass drum', 'Bass guitar', 'Bathtub (filling or washing)', 'Battle cry', 'Beatboxing', 'Bee, wasp, etc.', 'Beep, bleep', 'Bell', 'Bellow', 'Belly laugh', 'Bicycle', 'Bicycle bell', 'Bird', 'Bird flight, flapping wings', 'Bird vocalization, bird call, bird song', 'Biting', 'Bleat', 'Blender', 'Bluegrass', 'Blues', 'Boat, Water vehicle', 'Boiling', 'Boing', 'Boom', 'Bouncing', 'Bow-wow', 'Bowed string instrument', 'Brass instrument', 'Breaking', 'Breathing', 'Burping, eructation', 'Burst, pop', 'Bus', 'Busy signal', 'Buzz', 'Buzzer', 'Cacophony', 'Camera', 'Canidae, dogs, wolves', 'Cap gun', 'Car', 'Car alarm', 'Car passing by', 'Carnatic music', 'Cash register', 'Cat', 'Caterwaul', 'Cattle, bovinae', 'Caw', 'Cello', 'Chainsaw', 'Change ringing (campanology)', 'Chant', 'Chatter', 'Cheering', 'Chewing, mastication', 'Chicken, rooster', 'Child singing', 'Child speech, kid speaking', 'Children playing', 'Children shouting', 'Chime', 'Chink, clink', 'Chirp tone', 'Chirp, tweet', 'Choir', 'Chop', 'Chopping (food)', 'Chorus effect', 'Christian music', 'Christmas music', 'Chuckle, chortle', 'Church bell', 'Civil defense siren', 'Clang', 'Clapping', 'Clarinet', 'Classical music', 'Clatter', 'Clickety-clack', 'Clicking', 'Clip-clop', 'Clock', 'Cluck', 'Coin (dropping)', 'Computer keyboard', 'Conversation', 'Coo', 'Cough', 'Country', 'Cowbell', 'Crack', 'Crackle', 'Creak', 'Cricket', 'Croak', 'Crow', 'Crowd', 'Crowing, cock-a-doodle-doo', 'Crumpling, crinkling', 'Crunch', 'Crushing', 'Crying, sobbing', 'Cupboard open or close', 'Cutlery, silverware', 'Cymbal', 'Dance music', \"Dental drill, dentist's drill\", 'Dial tone', 'Didgeridoo', 'Ding', 'Ding-dong', 'Disco', 'Dishes, pots, and pans', 'Distortion', 'Dog', 'Domestic animals, pets', 'Door', 'Doorbell', 'Double bass', 'Drawer open or close', 'Drill', 'Drip', 'Drum', 'Drum and bass', 'Drum kit', 'Drum machine', 'Drum roll', 'Dubstep', 'Duck', 'Echo', 'Effects unit', 'Electric guitar', 'Electric piano', 'Electric shaver, electric razor', 'Electric toothbrush', 'Electronic dance music', 'Electronic music', 'Electronic organ', 'Electronic tuner', 'Electronica', 'Emergency vehicle', 'Engine', 'Engine knocking', 'Engine starting', 'Environmental noise', 'Eruption', 'Exciting music', 'Explosion', 'Fart', 'Female singing', 'Female speech, woman speaking', 'Field recording', 'Filing (rasp)', 'Fill (with liquid)', 'Finger snapping', 'Fire', 'Fire alarm', 'Fire engine, fire truck (siren)', 'Firecracker', 'Fireworks', 'Fixed-wing aircraft, airplane', 'Flamenco', 'Flap', 'Flute', 'Fly, housefly', 'Foghorn', 'Folk music', 'Fowl', 'French horn', 'Frog', 'Frying (food)', 'Funk', 'Funny music', 'Fusillade', 'Gargling', 'Gasp', 'Gears', 'Giggle', 'Glass', 'Glockenspiel', 'Goat', 'Gobble', 'Gong', 'Goose', 'Gospel music', 'Groan', 'Growling', 'Grunge', 'Grunt', 'Guitar', 'Gunshot, gunfire', 'Gurgling', 'Gush', 'Hair dryer', 'Hammer', 'Hammond organ', 'Hands', 'Happy music', 'Harmonic', 'Harmonica', 'Harp', 'Harpsichord', 'Heart murmur', 'Heart sounds, heartbeat', 'Heavy engine (low frequency)', 'Heavy metal', 'Helicopter', 'Hi-hat', 'Hiccup', 'Hip hop music', 'Hiss', 'Honk', 'Hoot', 'Horse', 'House music', 'Howl', 'Hubbub, speech noise, speech babble', 'Hum', 'Humming', 'Ice cream truck, ice cream van', 'Idling', 'Independent music', 'Insect', 'Inside, large room or hall', 'Inside, public space', 'Inside, small room', 'Jackhammer', 'Jazz', 'Jet engine', 'Jingle (music)', 'Jingle bell', 'Jingle, tinkle', 'Keyboard (musical)', 'Keys jangling', 'Knock', 'Laughter', 'Lawn mower', 'Light engine (high frequency)', 'Liquid', 'Livestock, farm animals, working animals', 'Lullaby', 'Machine gun', 'Mains hum', 'Male singing', 'Male speech, man speaking', 'Mallet percussion', 'Mandolin', 'Mantra', 'Maraca', 'Marimba, xylophone', 'Mechanical fan', 'Mechanisms', 'Medium engine (mid frequency)', 'Meow', 'Microwave oven', 'Middle Eastern music', 'Moo', 'Mosquito', 'Motor vehicle (road)', 'Motorboat, speedboat', 'Motorcycle', 'Mouse', 'Music', 'Music for children', 'Music of Africa', 'Music of Asia', 'Music of Bollywood', 'Music of Latin America', 'Musical instrument', 'Narration, monologue', 'Neigh, whinny', 'New-age music', 'Noise', 'Ocean', 'Oink', 'Opera', 'Orchestra', 'Organ', 'Outside, rural or natural', 'Outside, urban or manmade', 'Owl', 'Pant', 'Patter', 'Percussion', 'Piano', 'Pig', 'Pigeon, dove', 'Ping', 'Pink noise', 'Pizzicato', 'Plop', 'Plucked string instrument', 'Police car (siren)', 'Pop music', 'Pour', 'Power tool', 'Power windows, electric windows', 'Printer', 'Progressive rock', 'Propeller, airscrew', 'Psychedelic rock', 'Pulleys', 'Pulse', 'Pump (liquid)', 'Punk rock', 'Purr', 'Quack', 'Race car, auto racing', 'Radio', 'Rail transport', 'Railroad car, train wagon', 'Rain', 'Rain on surface', 'Raindrop', 'Rapping', 'Ratchet, pawl', 'Rattle', 'Rattle (instrument)', 'Reggae', 'Reverberation', 'Reversing beeps', 'Rhythm and blues', 'Rimshot', 'Ringtone', 'Roar', 'Roaring cats (lions, tigers)', 'Rock and roll', 'Rock music', 'Rodents, rats, mice', 'Roll', 'Rowboat, canoe, kayak', 'Rub', 'Rumble', 'Run', 'Rustle', 'Rustling leaves', 'Sad music', 'Sailboat, sailing ship', 'Salsa music', 'Sampler', 'Sanding', 'Sawing', 'Saxophone', 'Scary music', 'Scissors', 'Scrape', 'Scratch', 'Scratching (performance technique)', 'Screaming', 'Sewing machine', 'Shatter', 'Sheep', 'Ship', 'Shofar', 'Shout', 'Shuffle', 'Shuffling cards', 'Sidetone', 'Sigh', 'Silence', 'Sine wave', 'Singing', 'Singing bowl', 'Single-lens reflex camera', 'Sink (filling or washing)', 'Siren', 'Sitar', 'Sizzle', 'Ska', 'Skateboard', 'Skidding', 'Slam', 'Slap, smack', 'Sliding door', 'Slosh', 'Smash, crash', 'Smoke detector, smoke alarm', 'Snake', 'Snare drum', 'Sneeze', 'Snicker', 'Sniff', 'Snoring', 'Snort', 'Sonar', 'Song', 'Soul music', 'Sound effect', 'Soundtrack music', 'Speech', 'Speech synthesizer', 'Splash, splatter', 'Splinter', 'Spray', 'Squawk', 'Squeak', 'Squeal', 'Squish', 'Static', 'Steam', 'Steam whistle', 'Steel guitar, slide guitar', 'Steelpan', 'Stir', 'Stomach rumble', 'Stream', 'String section', 'Strum', 'Subway, metro, underground', 'Swing music', 'Synthesizer', 'Synthetic singing', 'Tabla', 'Tambourine', 'Tap', 'Tapping (guitar technique)', 'Tearing', 'Techno', 'Telephone', 'Telephone bell ringing', 'Telephone dialing, DTMF', 'Television', 'Tender music', 'Theme music', 'Theremin', 'Throat clearing', 'Throbbing', 'Thump, thud', 'Thunder', 'Thunderstorm', 'Thunk', 'Tick', 'Tick-tock', 'Timpani', 'Tire squeal', 'Toilet flush', 'Tools', 'Toot', 'Toothbrush', 'Traditional music', 'Traffic noise, roadway noise', 'Train', 'Train horn', 'Train wheels squealing', 'Train whistle', 'Trance music', 'Trickle, dribble', 'Trombone', 'Truck', 'Trumpet', 'Tubular bells', 'Tuning fork', 'Turkey', 'Typewriter', 'Typing', 'Ukulele', 'Vacuum cleaner', 'Vehicle', 'Vehicle horn, car horn, honking', 'Vibraphone', 'Vibration', 'Video game music', 'Violin, fiddle', 'Vocal music', 'Wail, moan', 'Walk, footsteps', 'Water', 'Water tap, faucet', 'Waterfall', 'Waves, surf', 'Wedding music', 'Whack, thwack', 'Whale vocalization', 'Wheeze', 'Whimper', 'Whimper (dog)', 'Whip', 'Whir', 'Whispering', 'Whistle', 'Whistling', 'White noise', 'Whoop', 'Whoosh, swoosh, swish', 'Wild animals', 'Wind', 'Wind chime', 'Wind instrument, woodwind instrument', 'Wind noise (microphone)', 'Wood', 'Wood block', 'Writing', 'Yell', 'Yip', 'Yodeling', 'Zing', 'Zipper (clothing)', 'Zither']\n",
      "labels_before_sort=['A capella', 'Accelerating, revving, vroom', 'Accordion', 'Acoustic guitar', 'Afrobeat', 'Air brake', 'Air conditioning', 'Air horn, truck horn', 'Aircraft', 'Aircraft engine', 'Alarm', 'Alarm clock', 'Ambient music', 'Ambulance (siren)', 'Angry music', 'Animal', 'Applause', 'Arrow', 'Artillery fire', 'Babbling', 'Baby cry, infant cry', 'Baby laughter', 'Background music', 'Bagpipes', 'Bang', 'Banjo', 'Bark', 'Basketball bounce', 'Bass drum', 'Bass guitar', 'Bathtub (filling or washing)', 'Battle cry', 'Beatboxing', 'Bee, wasp, etc.', 'Beep, bleep', 'Bell', 'Bellow', 'Belly laugh', 'Bicycle', 'Bicycle bell', 'Bird', 'Bird flight, flapping wings', 'Bird vocalization, bird call, bird song', 'Biting', 'Bleat', 'Blender', 'Bluegrass', 'Blues', 'Boat, Water vehicle', 'Boiling', 'Boing', 'Boom', 'Bouncing', 'Bow-wow', 'Bowed string instrument', 'Brass instrument', 'Breaking', 'Breathing', 'Burping, eructation', 'Burst, pop', 'Bus', 'Busy signal', 'Buzz', 'Buzzer', 'Cacophony', 'Camera', 'Canidae, dogs, wolves', 'Cap gun', 'Car', 'Car alarm', 'Car passing by', 'Carnatic music', 'Cash register', 'Cat', 'Caterwaul', 'Cattle, bovinae', 'Caw', 'Cello', 'Chainsaw', 'Change ringing (campanology)', 'Chant', 'Chatter', 'Cheering', 'Chewing, mastication', 'Chicken, rooster', 'Child singing', 'Child speech, kid speaking', 'Children playing', 'Children shouting', 'Chime', 'Chink, clink', 'Chirp tone', 'Chirp, tweet', 'Choir', 'Chop', 'Chopping (food)', 'Chorus effect', 'Christian music', 'Christmas music', 'Chuckle, chortle', 'Church bell', 'Civil defense siren', 'Clang', 'Clapping', 'Clarinet', 'Classical music', 'Clatter', 'Clickety-clack', 'Clicking', 'Clip-clop', 'Clock', 'Cluck', 'Coin (dropping)', 'Computer keyboard', 'Conversation', 'Coo', 'Cough', 'Country', 'Cowbell', 'Crack', 'Crackle', 'Creak', 'Cricket', 'Croak', 'Crow', 'Crowd', 'Crowing, cock-a-doodle-doo', 'Crumpling, crinkling', 'Crunch', 'Crushing', 'Crying, sobbing', 'Cupboard open or close', 'Cutlery, silverware', 'Cymbal', 'Dance music', \"Dental drill, dentist's drill\", 'Dial tone', 'Didgeridoo', 'Ding', 'Ding-dong', 'Disco', 'Dishes, pots, and pans', 'Distortion', 'Dog', 'Domestic animals, pets', 'Door', 'Doorbell', 'Double bass', 'Drawer open or close', 'Drill', 'Drip', 'Drum', 'Drum and bass', 'Drum kit', 'Drum machine', 'Drum roll', 'Dubstep', 'Duck', 'Echo', 'Effects unit', 'Electric guitar', 'Electric piano', 'Electric shaver, electric razor', 'Electric toothbrush', 'Electronic dance music', 'Electronic music', 'Electronic organ', 'Electronic tuner', 'Electronica', 'Emergency vehicle', 'Engine', 'Engine knocking', 'Engine starting', 'Environmental noise', 'Eruption', 'Exciting music', 'Explosion', 'Fart', 'Female singing', 'Female speech, woman speaking', 'Field recording', 'Filing (rasp)', 'Fill (with liquid)', 'Finger snapping', 'Fire', 'Fire alarm', 'Fire engine, fire truck (siren)', 'Firecracker', 'Fireworks', 'Fixed-wing aircraft, airplane', 'Flamenco', 'Flap', 'Flute', 'Fly, housefly', 'Foghorn', 'Folk music', 'Fowl', 'French horn', 'Frog', 'Frying (food)', 'Funk', 'Funny music', 'Fusillade', 'Gargling', 'Gasp', 'Gears', 'Giggle', 'Glass', 'Glockenspiel', 'Goat', 'Gobble', 'Gong', 'Goose', 'Gospel music', 'Groan', 'Growling', 'Grunge', 'Grunt', 'Guitar', 'Gunshot, gunfire', 'Gurgling', 'Gush', 'Hair dryer', 'Hammer', 'Hammond organ', 'Hands', 'Happy music', 'Harmonic', 'Harmonica', 'Harp', 'Harpsichord', 'Heart murmur', 'Heart sounds, heartbeat', 'Heavy engine (low frequency)', 'Heavy metal', 'Helicopter', 'Hi-hat', 'Hiccup', 'Hip hop music', 'Hiss', 'Honk', 'Hoot', 'Horse', 'House music', 'Howl', 'Hubbub, speech noise, speech babble', 'Hum', 'Humming', 'Ice cream truck, ice cream van', 'Idling', 'Independent music', 'Insect', 'Inside, large room or hall', 'Inside, public space', 'Inside, small room', 'Jackhammer', 'Jazz', 'Jet engine', 'Jingle (music)', 'Jingle bell', 'Jingle, tinkle', 'Keyboard (musical)', 'Keys jangling', 'Knock', 'Laughter', 'Lawn mower', 'Light engine (high frequency)', 'Liquid', 'Livestock, farm animals, working animals', 'Lullaby', 'Machine gun', 'Mains hum', 'Male singing', 'Male speech, man speaking', 'Mallet percussion', 'Mandolin', 'Mantra', 'Maraca', 'Marimba, xylophone', 'Mechanical fan', 'Mechanisms', 'Medium engine (mid frequency)', 'Meow', 'Microwave oven', 'Middle Eastern music', 'Moo', 'Mosquito', 'Motor vehicle (road)', 'Motorboat, speedboat', 'Motorcycle', 'Mouse', 'Music', 'Music for children', 'Music of Africa', 'Music of Asia', 'Music of Bollywood', 'Music of Latin America', 'Musical instrument', 'Narration, monologue', 'Neigh, whinny', 'New-age music', 'Noise', 'Ocean', 'Oink', 'Opera', 'Orchestra', 'Organ', 'Outside, rural or natural', 'Outside, urban or manmade', 'Owl', 'Pant', 'Patter', 'Percussion', 'Piano', 'Pig', 'Pigeon, dove', 'Ping', 'Pink noise', 'Pizzicato', 'Plop', 'Plucked string instrument', 'Police car (siren)', 'Pop music', 'Pour', 'Power tool', 'Power windows, electric windows', 'Printer', 'Progressive rock', 'Propeller, airscrew', 'Psychedelic rock', 'Pulleys', 'Pulse', 'Pump (liquid)', 'Punk rock', 'Purr', 'Quack', 'Race car, auto racing', 'Radio', 'Rail transport', 'Railroad car, train wagon', 'Rain', 'Rain on surface', 'Raindrop', 'Rapping', 'Ratchet, pawl', 'Rattle', 'Rattle (instrument)', 'Reggae', 'Reverberation', 'Reversing beeps', 'Rhythm and blues', 'Rimshot', 'Ringtone', 'Roar', 'Roaring cats (lions, tigers)', 'Rock and roll', 'Rock music', 'Rodents, rats, mice', 'Roll', 'Rowboat, canoe, kayak', 'Rub', 'Rumble', 'Run', 'Rustle', 'Rustling leaves', 'Sad music', 'Sailboat, sailing ship', 'Salsa music', 'Sampler', 'Sanding', 'Sawing', 'Saxophone', 'Scary music', 'Scissors', 'Scrape', 'Scratch', 'Scratching (performance technique)', 'Screaming', 'Sewing machine', 'Shatter', 'Sheep', 'Ship', 'Shofar', 'Shout', 'Shuffle', 'Shuffling cards', 'Sidetone', 'Sigh', 'Silence', 'Sine wave', 'Singing', 'Singing bowl', 'Single-lens reflex camera', 'Sink (filling or washing)', 'Siren', 'Sitar', 'Sizzle', 'Ska', 'Skateboard', 'Skidding', 'Slam', 'Slap, smack', 'Sliding door', 'Slosh', 'Smash, crash', 'Smoke detector, smoke alarm', 'Snake', 'Snare drum', 'Sneeze', 'Snicker', 'Sniff', 'Snoring', 'Snort', 'Sonar', 'Song', 'Soul music', 'Sound effect', 'Soundtrack music', 'Speech', 'Speech synthesizer', 'Splash, splatter', 'Splinter', 'Spray', 'Squawk', 'Squeak', 'Squeal', 'Squish', 'Static', 'Steam', 'Steam whistle', 'Steel guitar, slide guitar', 'Steelpan', 'Stir', 'Stomach rumble', 'Stream', 'String section', 'Strum', 'Subway, metro, underground', 'Swing music', 'Synthesizer', 'Synthetic singing', 'Tabla', 'Tambourine', 'Tap', 'Tapping (guitar technique)', 'Tearing', 'Techno', 'Telephone', 'Telephone bell ringing', 'Telephone dialing, DTMF', 'Television', 'Tender music', 'Theme music', 'Theremin', 'Throat clearing', 'Throbbing', 'Thump, thud', 'Thunder', 'Thunderstorm', 'Thunk', 'Tick', 'Tick-tock', 'Timpani', 'Tire squeal', 'Toilet flush', 'Tools', 'Toot', 'Toothbrush', 'Traditional music', 'Traffic noise, roadway noise', 'Train', 'Train horn', 'Train wheels squealing', 'Train whistle', 'Trance music', 'Trickle, dribble', 'Trombone', 'Truck', 'Trumpet', 'Tubular bells', 'Tuning fork', 'Turkey', 'Typewriter', 'Typing', 'Ukulele', 'Vacuum cleaner', 'Vehicle', 'Vehicle horn, car horn, honking', 'Vibraphone', 'Vibration', 'Video game music', 'Violin, fiddle', 'Vocal music', 'Wail, moan', 'Walk, footsteps', 'Water', 'Water tap, faucet', 'Waterfall', 'Waves, surf', 'Wedding music', 'Whack, thwack', 'Whale vocalization', 'Wheeze', 'Whimper', 'Whimper (dog)', 'Whip', 'Whir', 'Whispering', 'Whistle', 'Whistling', 'White noise', 'Whoop', 'Whoosh, swoosh, swish', 'Wild animals', 'Wind', 'Wind chime', 'Wind instrument, woodwind instrument', 'Wind noise (microphone)', 'Wood', 'Wood block', 'Writing', 'Yell', 'Yip', 'Yodeling', 'Zing', 'Zipper (clothing)', 'Zither']\n"
     ]
    }
   ],
   "source": [
    "labels_before_sort: list[str] = copy(human_labels)\n",
    "# assert str(human_labels.sort()) == str(labels_before_sort)\n",
    "print(f\"{human_labels=}\")\n",
    "print(f\"{labels_before_sort=}\")\n",
    "for i, label in enumerate(labels_before_sort):\n",
    "    assert label in human_labels\n",
    "    assert label in id_to_lb.values()\n",
    "    assert human_labels[i] == label"
   ]
  },
  {
   "cell_type": "markdown",
   "metadata": {},
   "source": [
    "## Checking that the pann repo's code maps the machine IDS to the human labels properly"
   ]
  },
  {
   "cell_type": "code",
   "execution_count": null,
   "metadata": {},
   "outputs": [],
   "source": [
    "csv_id_to_human_map: dict = {}\n",
    "for index, meta_csv_row in labels_csv.iterrows():\n",
    "    csv_id_to_human_map[meta_csv_row[\"mid\"]] = meta_csv_row[\"display_name\"]\n",
    "\n",
    "assert csv_id_to_human_map == id_to_lb"
   ]
  },
  {
   "cell_type": "markdown",
   "metadata": {},
   "source": [
    "## Verifying the melspec HDF5s"
   ]
  },
  {
   "cell_type": "code",
   "execution_count": 180,
   "metadata": {},
   "outputs": [
    {
     "name": "stdout",
     "output_type": "stream",
     "text": [
      "file=PosixPath('/datasets/AudioSet/pann_repo/hdf5s/pack_1.6m_hdf5s/train/audioset_0.h5')\n",
      "f.keys()=<KeysViewHDF5 ['audio_name', 'meta_csv_idx', 'target', 'valid', 'waveform']>\n",
      "f['waveform'].dtype=dtype('int16')\n"
     ]
    },
    {
     "name": "stderr",
     "output_type": "stream",
     "text": [
      "  0%|          | 0/83 [00:00<?, ?it/s]/tmp/ipykernel_979695/3586497896.py:65: DeprecationWarning: Calling nonzero on 0d arrays is deprecated, as it behaves surprisingly. Use `atleast_1d(cond).nonzero()` if the old behavior was intended. If the context of this warning is of the form `arr[nonzero(cond)]`, just use `arr[cond]`.\n",
      "  tmp_where = np.where(hdf5_targets_idxs[i] == True)\n",
      "  0%|          | 0/83 [00:00<?, ?it/s]"
     ]
    },
    {
     "name": "stdout",
     "output_type": "stream",
     "text": [
      "human_label_idxs=[291, 418]\n",
      "idx=106752\n",
      "hdf5_targets_idxs=array([291, 418])\n",
      "human_label_idxs=[291, 418]\n",
      "human_label_idxs=[291, 297, 491]\n",
      "idx=1753785\n"
     ]
    },
    {
     "name": "stderr",
     "output_type": "stream",
     "text": [
      "\n"
     ]
    },
    {
     "ename": "AssertionError",
     "evalue": "",
     "output_type": "error",
     "traceback": [
      "\u001b[0;31m---------------------------------------------------------------------------\u001b[0m",
      "\u001b[0;31mAssertionError\u001b[0m                            Traceback (most recent call last)",
      "Cell \u001b[0;32mIn[180], line 68\u001b[0m\n\u001b[1;32m     66\u001b[0m \u001b[38;5;28;01mif\u001b[39;00m \u001b[38;5;28misinstance\u001b[39m(tmp_where, \u001b[38;5;28mtuple\u001b[39m):\n\u001b[1;32m     67\u001b[0m     tmp_where \u001b[38;5;241m=\u001b[39m tmp_where[\u001b[38;5;241m0\u001b[39m]\n\u001b[0;32m---> 68\u001b[0m     \u001b[38;5;28;01massert\u001b[39;00m \u001b[38;5;28mlen\u001b[39m(tmp_where) \u001b[38;5;241m>\u001b[39m \u001b[38;5;241m0\u001b[39m\n\u001b[1;32m     69\u001b[0m hdf5_targets_idxs: np\u001b[38;5;241m.\u001b[39marray \u001b[38;5;241m=\u001b[39m tmp_where\n\u001b[1;32m     70\u001b[0m \u001b[38;5;66;03m# print(f\"{}\")\u001b[39;00m\n\u001b[1;32m     71\u001b[0m \u001b[38;5;66;03m# print(f\"{}\")\u001b[39;00m\n",
      "\u001b[0;31mAssertionError\u001b[0m: "
     ]
    }
   ],
   "source": [
    "# hdf5s_path : Path = Path(\"../hdf5s/melspec_hdf5s_1.6m/train\")\n",
    "hdf5s_path : Path = Path(\"/datasets/AudioSet/pann_repo/hdf5s/pack_1.6m_hdf5s/train\")\n",
    "\n",
    "\n",
    "split_stats : dict = {}\n",
    "batch_size: int = 500\n",
    "\n",
    "for file in hdf5s_path.glob(\"*.h5\"):\n",
    "    print(f\"{file=}\")\n",
    "\n",
    "    with h5py.File(file) as f:\n",
    "        print(f\"{f.keys()=}\")\n",
    "        assert f['meta_csv_idx'].dtype == np.int32\n",
    "        assert len(f['meta_csv_idx'].shape) == 1\n",
    "\n",
    "        if f['target'].dtype == bool:\n",
    "            if f['target'].shape[1] != num_classes:\n",
    "                raise ValueError(\"Target shape does not match number of classes\")\n",
    "        assert len(f['meta_csv_idx'].shape) == 1, \"Meta csv idx has more than 1 dimension\"\n",
    "        \n",
    "        assert f['valid'].dtype == bool \n",
    "        assert len(f['valid'].shape) == 1\n",
    "\n",
    "        if 'waveform' in f.keys():\n",
    "            print(f\"{f['waveform'].dtype=}\")\n",
    "            assert f['waveform'].dtype == np.int16\n",
    "            assert len(f['waveform'].shape) == 2\n",
    "        elif 'mel_specs' in f.keys():\n",
    "            assert f['mel_specs'].dtype == np.float32\n",
    "            assert len(f['mel_specs'].shape) == 3\n",
    "        \n",
    "        # print(f['audio_name'].dtype)\n",
    "        assert f['audio_name'].dtype == 'S20'\n",
    "\n",
    "        for i in tqdm(range(0, f['target'].shape[0]//batch_size)):\n",
    "            # print(f\"{i=}\")\n",
    "            # mel_specs: np.array = np.array(f['mel_specs'][i*batch_size:(i+1)*batch_size])\n",
    "            hdf5_targets_idxs: np.array = np.array(f['target'][i*batch_size:(i+1)*batch_size])\n",
    "            hdf5_valid: np.array = np.array(f['valid'][i*batch_size:(i+1)*batch_size])\n",
    "\n",
    "            # check the type of meta_csv_idx\n",
    "\n",
    "#             print(f\"{f['meta_csv_idx'].dtype=}\")\n",
    "            meta_csv_idxs: np.array = np.array(f['meta_csv_idx'][i*batch_size:(i+1)*batch_size])\n",
    "\n",
    "            # get rows from meta_csv\n",
    "            meta_csv_rows: pd.DataFrame = meta_csv.loc[meta_csv_idxs]\n",
    "            # print(f\"{meta_csv_rows=}\")\n",
    "\n",
    "            csv_labels: np.array = np.zeros((meta_csv_rows.shape[0], num_classes), dtype=bool)\n",
    "            # print(f\"{csv_labels=}\")\n",
    "            \n",
    "            csv_targets: np.array = np.zeros((meta_csv_rows.shape[0], num_classes), dtype=bool)\n",
    "            # verifying that the labels in the CSV are the same as the labels in the HDF5\n",
    "            for i, (idx, meta_csv_row) in enumerate(meta_csv_rows.iterrows()): \n",
    "\n",
    "                if hdf5_valid[i] == False:\n",
    "                    continue\n",
    "\n",
    "                human_label_idxs: list[str] = [ human_labels.index(id_to_lb[lb].replace(\"\\\"\", \"\")) for lb in meta_csv_row['positive_labels'].replace(\"\\\"\", \"\").split(',')]\n",
    "                print(f\"{human_label_idxs=}\")   \n",
    "                print(f\"{idx=}\")\n",
    "                csv_targets[i, human_label_idxs] = True\n",
    "\n",
    "                tmp_where = np.where(hdf5_targets_idxs[i] == True)\n",
    "                if isinstance(tmp_where, tuple):\n",
    "                    tmp_where = tmp_where[0]\n",
    "                    assert len(tmp_where) > 0\n",
    "                hdf5_targets_idxs: np.array = tmp_where\n",
    "                # print(f\"{}\")\n",
    "                # print(f\"{}\")\n",
    "                print(f\"{hdf5_targets_idxs=}\")\n",
    "                print(f\"{human_label_idxs=}\")\n",
    "                assert np.array_equal(np.array(human_label_idxs), hdf5_targets_idxs)\n",
    "\n",
    "\n",
    "            \n",
    "            # if not np.array_equal(hdf5_targets, csv_targets):\n",
    "            #     print(\"HDF5 and CSV targets are not equal\")\n",
    "            #     print(f\"{np.argmax(hdf5_targets, axis=1)=}\")\n",
    "            #     print(f\"{np.argmax(csv_targets, axis=1)=}\")\n",
    "            # assert np.array_equal(csv_targets, hdf5_targets)\n",
    "\n",
    "            # min_vals: np.array = np.min(mel_specs, axis=(1, 2))\n",
    "            # max_vals: np.array = np.max(mel_specs, axis=(1, 2))\n",
    "#             # print(f\"{min_vals.shape=}\")\n",
    "#             # print(f\"{max_vals.shape=}\")\n",
    "#             # print(f\"{min_vals[:10]=}\")\n",
    "#             # print(f\"{max_vals[:10]=}\")\n",
    "#             # print(f\"{meta_csv_idxs[:10]=}\")\n",
    "\n",
    "#             # print(f\"{meta_csv.loc[list(meta_csv_idxs)]=}\")\n",
    "            # break\n",
    "\n",
    "            \n",
    "\n",
    "#         # # print(f['audio_name'])\n",
    "#         # waveform: np.array = np.array(f['mel_specs'])\n",
    "#         # # print out norms of waveforms\n",
    "#         # print(f\"{np.linalg.norm(waveform, axis=0)}\")\n",
    "#         # load_arr : np.array = np.array(f['valid'])\n",
    "#         # print(f\"{load_arr.any()}\")\n",
    "#         # print(f\"{load_arr.shape=}\")\n",
    "#         # print(\"Number of valid files is \", np.sum(load_arr.astype(int)))\n",
    "#         # print(\"Number of total entries is \", f\"{load_arr.shape[0]}\")\n",
    "#         # # print(f\"{}\")\n",
    "#         # split_stats[file] = {\n",
    "#         #     \"num_audios\" : np.sum(load_arr),\n",
    "#         #     \"total_rows\" : load_arr.shape[0]\n",
    "#         # }\n",
    "    break\n",
    "\n",
    "# total_num_audios : int = 0\n",
    "# total_rows : int = 0\n",
    "\n",
    "# for key in split_stats:\n",
    "#     total_num_audios += split_stats[key]['num_audios']\n",
    "#     total_rows += split_stats[key]['total_rows']\n",
    "\n",
    "# print(f\"{total_num_audios=}\")\n",
    "# print(f\"{total_rows=}\")\n",
    "\n",
    "\n"
   ]
  },
  {
   "cell_type": "code",
   "execution_count": null,
   "metadata": {},
   "outputs": [],
   "source": []
  },
  {
   "cell_type": "code",
   "execution_count": null,
   "metadata": {},
   "outputs": [],
   "source": []
  },
  {
   "cell_type": "code",
   "execution_count": 11,
   "metadata": {},
   "outputs": [],
   "source": [
    "f.close()"
   ]
  }
 ],
 "metadata": {
  "kernelspec": {
   "display_name": "pytorch-2.1-clone2",
   "language": "python",
   "name": "python3"
  },
  "language_info": {
   "codemirror_mode": {
    "name": "ipython",
    "version": 3
   },
   "file_extension": ".py",
   "mimetype": "text/x-python",
   "name": "python",
   "nbconvert_exporter": "python",
   "pygments_lexer": "ipython3",
   "version": "3.10.13"
  }
 },
 "nbformat": 4,
 "nbformat_minor": 2
}
